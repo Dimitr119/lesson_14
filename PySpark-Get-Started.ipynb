{
 "cells": [
  {
   "cell_type": "code",
   "execution_count": 13,
   "id": "295bb072-e349-4979-9ba2-f76f7d8f8620",
   "metadata": {},
   "outputs": [],
   "source": [
    "import os\n",
    "os.environ['SPARK_HOME'] = \"/Users/dimitr/Desktop/data_engineer_courses/lesson_06/Spark\"\n",
    "os.environ['PYSPARK_DRIVER_PYTHON'] = 'jupyter'\n",
    "os.environ['PYSPARK_DRIVER_PYTHON_OPTS'] = 'lab'\n",
    "os.environ['PYSPARK_PYTHON'] = 'python'"
   ]
  },
  {
   "cell_type": "code",
   "execution_count": 14,
   "id": "761955e7-d930-4a59-916d-2b70bb64a134",
   "metadata": {},
   "outputs": [],
   "source": [
    "from pyspark.sql import SparkSession"
   ]
  },
  {
   "cell_type": "code",
   "execution_count": 84,
   "id": "56c05d8a-8b33-486a-92d0-890772387e5a",
   "metadata": {},
   "outputs": [],
   "source": [
    "from pyspark.sql.functions import count, desc, sum"
   ]
  },
  {
   "cell_type": "code",
   "execution_count": 26,
   "id": "c29e1a93-96cb-4bd2-8af9-0e86fd8d62e7",
   "metadata": {},
   "outputs": [],
   "source": [
    "import pandas as pd"
   ]
  },
  {
   "cell_type": "code",
   "execution_count": 16,
   "id": "af4f013a-773c-4e8a-a4ae-f8a0ae7b7871",
   "metadata": {},
   "outputs": [],
   "source": [
    "spark = SparkSession.builder.appName('PySpark-Get-Started').getOrCreate()"
   ]
  },
  {
   "cell_type": "code",
   "execution_count": 21,
   "id": "8e9971d8-9286-4eb1-b348-42c4cb2c2aed",
   "metadata": {},
   "outputs": [
    {
     "data": {
      "text/plain": [
       "'3.5.0'"
      ]
     },
     "execution_count": 21,
     "metadata": {},
     "output_type": "execute_result"
    }
   ],
   "source": [
    "spark.version"
   ]
  },
  {
   "cell_type": "code",
   "execution_count": 23,
   "id": "a8f9063b-bacc-4666-8486-07fb7f306d22",
   "metadata": {},
   "outputs": [],
   "source": [
    "actor_df = spark.read.csv('./data/actor.csv', header=True, inferSchema=True)\n",
    "address_df = spark.read.csv('./data/address.csv', header=True, inferSchema=True)\n",
    "category_df = spark.read.csv('./data/category.csv', header=True, inferSchema=True)\n",
    "city_df = spark.read.csv('./data/city.csv', header=True, inferSchema=True)\n",
    "country_df = spark.read.csv('./data/country.csv', header=True, inferSchema=True)\n",
    "customer_df = spark.read.csv('./data/customer.csv', header=True, inferSchema=True)\n",
    "film_df = spark.read.csv('./data/film.csv', header=True, inferSchema=True)\n",
    "film_actor_df = spark.read.csv('./data/film_actor.csv', header=True, inferSchema=True)\n",
    "film_category_df = spark.read.csv('./data/film_category.csv', header=True, inferSchema=True)\n",
    "inventory_df = spark.read.csv('./data/inventory.csv', header=True, inferSchema=True)\n",
    "language_df = spark.read.csv('./data/language.csv', header=True, inferSchema=True)\n",
    "payment_df = spark.read.csv('./data/payment.csv', header=True, inferSchema=True)\n",
    "rental_df = spark.read.csv('./data/rental.csv', header=True, inferSchema=True)\n",
    "staff_df = spark.read.csv('./data/staff.csv', header=True, inferSchema=True)\n",
    "store_df = spark.read.csv('./data/store.csv', header=True, inferSchema=True)"
   ]
  },
  {
   "cell_type": "code",
   "execution_count": 83,
   "id": "aea30fbd-3f09-40f5-86d3-fcaa321bf415",
   "metadata": {},
   "outputs": [
    {
     "name": "stdout",
     "output_type": "stream",
     "text": [
      "+-------+-----------+-------------------+\n",
      "|film_id|category_id|        last_update|\n",
      "+-------+-----------+-------------------+\n",
      "|      1|          6|2022-02-15 11:07:09|\n",
      "|      2|         11|2022-02-15 11:07:09|\n",
      "|      3|          6|2022-02-15 11:07:09|\n",
      "|      4|         11|2022-02-15 11:07:09|\n",
      "|      5|          8|2022-02-15 11:07:09|\n",
      "|      6|          9|2022-02-15 11:07:09|\n",
      "|      7|          5|2022-02-15 11:07:09|\n",
      "|      8|         11|2022-02-15 11:07:09|\n",
      "|      9|         11|2022-02-15 11:07:09|\n",
      "|     10|         15|2022-02-15 11:07:09|\n",
      "|     11|          9|2022-02-15 11:07:09|\n",
      "|     12|         12|2022-02-15 11:07:09|\n",
      "|     13|         11|2022-02-15 11:07:09|\n",
      "|     14|          4|2022-02-15 11:07:09|\n",
      "|     15|          9|2022-02-15 11:07:09|\n",
      "|     16|          9|2022-02-15 11:07:09|\n",
      "|     17|         12|2022-02-15 11:07:09|\n",
      "|     18|          2|2022-02-15 11:07:09|\n",
      "|     19|          1|2022-02-15 11:07:09|\n",
      "|     20|         12|2022-02-15 11:07:09|\n",
      "+-------+-----------+-------------------+\n",
      "only showing top 20 rows\n",
      "\n"
     ]
    }
   ],
   "source": [
    "film_category_df.show()"
   ]
  },
  {
   "cell_type": "code",
   "execution_count": 51,
   "id": "70935071-65c8-4882-8b6b-6ab268626190",
   "metadata": {},
   "outputs": [
    {
     "name": "stdout",
     "output_type": "stream",
     "text": [
      "+-----------+-----------+\n",
      "|category_id|movie_count|\n",
      "+-----------+-----------+\n",
      "|         15|         74|\n",
      "|          9|         73|\n",
      "|          8|         69|\n",
      "|          6|         68|\n",
      "|          2|         66|\n",
      "|          1|         64|\n",
      "|         13|         63|\n",
      "|          7|         62|\n",
      "|         10|         61|\n",
      "|         14|         61|\n",
      "|          3|         60|\n",
      "|          5|         58|\n",
      "|         16|         57|\n",
      "|          4|         57|\n",
      "|         11|         56|\n",
      "|         12|         51|\n",
      "+-----------+-----------+\n",
      "\n"
     ]
    }
   ],
   "source": [
    "# 1. Вивести кількість фільмів в кожній категорії. Результат відсортувати за спаданням.\n",
    "category_counts = film_category_df.groupBy('category_id').agg(count(\"*\").alias(\"movie_count\"))\n",
    "sorted_category_counts = category_counts.orderBy(desc(\"movie_count\"))\n",
    "sorted_category_counts.show()"
   ]
  },
  {
   "cell_type": "code",
   "execution_count": 56,
   "id": "5f071889-8d99-405a-adb4-b3f0d0e2010f",
   "metadata": {},
   "outputs": [
    {
     "name": "stdout",
     "output_type": "stream",
     "text": [
      "+--------+----------+\n",
      "|actor_id|film_count|\n",
      "+--------+----------+\n",
      "|     107|        42|\n",
      "|     102|        41|\n",
      "|     198|        40|\n",
      "|     181|        39|\n",
      "|      23|        37|\n",
      "|      81|        36|\n",
      "|      13|        35|\n",
      "|     106|        35|\n",
      "|      37|        35|\n",
      "|      60|        35|\n",
      "+--------+----------+\n",
      "\n"
     ]
    }
   ],
   "source": [
    "# 2. Вивести 10 акторів, чиї фільми брали на прокат найбільше. Результат відсортувати за спаданням.\n",
    "actor_counts = film_actor_df.groupBy(\"actor_id\").agg(count(\"*\").alias(\"film_count\"))\n",
    "sorted_actor_counts = actor_counts.orderBy(desc(\"film_count\"))\n",
    "top_10_actors = sorted_actor_counts.limit(10)\n",
    "top_10_actors.show()"
   ]
  },
  {
   "cell_type": "code",
   "execution_count": 88,
   "id": "47a83699-5a37-4aeb-a54e-5f90ac6f6cad",
   "metadata": {},
   "outputs": [
    {
     "name": "stdout",
     "output_type": "stream",
     "text": [
      "+-----------+------------------+\n",
      "|category_id|        total_cost|\n",
      "+-----------+------------------+\n",
      "|         15|1509.2600000000004|\n",
      "|          8|1361.3100000000004|\n",
      "|          9|1361.2700000000004|\n",
      "|          1|1338.3600000000004|\n",
      "|          6|1334.3200000000004|\n",
      "|          2|1328.3400000000004|\n",
      "|          7|1307.3800000000003|\n",
      "|         14|1290.3900000000003|\n",
      "|         10|1237.3900000000003|\n",
      "|         13|1223.3700000000003|\n",
      "|          3|1203.4000000000003|\n",
      "|          4|1197.4300000000003|\n",
      "|         11|1112.4400000000003|\n",
      "|          5|1103.4200000000003|\n",
      "|         16|1084.4300000000003|\n",
      "|         12| 991.4900000000004|\n",
      "+-----------+------------------+\n",
      "\n"
     ]
    }
   ],
   "source": [
    "# 3. Вивести категорія фільмів, на яку було витрачено найбільше грошей в прокаті\n",
    "joined_df = film_df.join(film_category_df, 'film_id')\n",
    "category_costs = joined_df.groupBy(\"category_id\").agg(sum(\"replacement_cost\").alias(\"total_cost\"))\n",
    "most_expensive_category = category_costs.orderBy(desc(\"total_cost\"))\n",
    "most_expensive_category.show()\n",
    "#most_expensive_category = category_costs.orderBy(desc(\"total_cost\")).first()\n",
    "#most_expensive_category.show()"
   ]
  },
  {
   "cell_type": "code",
   "execution_count": 67,
   "id": "4a010c56-ed95-48da-8430-aab8bcfb4b2a",
   "metadata": {},
   "outputs": [
    {
     "name": "stdout",
     "output_type": "stream",
     "text": [
      "+----------------------+\n",
      "|title                 |\n",
      "+----------------------+\n",
      "|ALICE FANTASIA        |\n",
      "|APOLLO TEEN           |\n",
      "|ARGONAUTS TOWN        |\n",
      "|ARK RIDGEMONT         |\n",
      "|ARSENIC INDEPENDENCE  |\n",
      "|BOONDOCK BALLROOM     |\n",
      "|BUTCH PANTHER         |\n",
      "|CATCH AMISTAD         |\n",
      "|CHINATOWN GLADIATOR   |\n",
      "|CHOCOLATE DUCK        |\n",
      "|COMMANDMENTS EXPRESS  |\n",
      "|CROSSING DIVORCE      |\n",
      "|CROWDS TELEMARK       |\n",
      "|CRYSTAL BREAKING      |\n",
      "|DAZED PUNK            |\n",
      "|DELIVERANCE MULHOLLAND|\n",
      "|FIREHOUSE VIETNAM     |\n",
      "|FLOATS GARDEN         |\n",
      "|FRANKENSTEIN STRANGER |\n",
      "|GLADIATOR WESTWARD    |\n",
      "+----------------------+\n",
      "only showing top 20 rows\n",
      "\n"
     ]
    }
   ],
   "source": [
    "# 4. Вивести назви фільмів, яких не має в inventory.\n",
    "missing_movies = film_df.join(inventory_df, film_df[\"film_id\"] == inventory_df[\"film_id\"], \"left_anti\")\n",
    "missing_movies.select(\"title\").show(truncate=False)"
   ]
  },
  {
   "cell_type": "code",
   "execution_count": 77,
   "id": "313900e8-f277-469b-8e6d-9bad1d1315e1",
   "metadata": {},
   "outputs": [
    {
     "name": "stdout",
     "output_type": "stream",
     "text": [
      "+--------+----------------+\n",
      "|actor_id|appearance_count|\n",
      "+--------+----------------+\n",
      "|      17|               7|\n",
      "|      66|               5|\n",
      "|     140|               5|\n",
      "+--------+----------------+\n",
      "only showing top 3 rows\n",
      "\n"
     ]
    }
   ],
   "source": [
    "# 5. Вивести топ 3 актори, які найбільше зʼявлялись в категорії фільмів “Children”\n",
    "category_name = \"Children\"\n",
    "\n",
    "children_films = category_df.filter(category_df.name == category_name) \\\n",
    "    .join(film_category_df, category_df.category_id == film_category_df.category_id) \\\n",
    "    .select(film_category_df.film_id)\n",
    "\n",
    "top_actors = children_films \\\n",
    "    .join(film_actor_df, children_films.film_id == film_actor_df.film_id) \\\n",
    "    .groupBy(\"actor_id\") \\\n",
    "    .agg(count(\"*\").alias(\"appearance_count\"))\n",
    "\n",
    "number_top_actors = 3\n",
    "top_actors \\\n",
    "    .orderBy(desc(\"appearance_count\")) \\\n",
    "    .show(number_top_actors)"
   ]
  },
  {
   "cell_type": "code",
   "execution_count": 89,
   "id": "649ae39c-d890-4fe4-8f7f-e7f40ccf832b",
   "metadata": {},
   "outputs": [],
   "source": [
    "spark.stop()"
   ]
  },
  {
   "cell_type": "code",
   "execution_count": null,
   "id": "e47955c7-9caf-4ad1-8c5f-45c6e8b99bd5",
   "metadata": {},
   "outputs": [],
   "source": []
  }
 ],
 "metadata": {
  "kernelspec": {
   "display_name": "Python 3 (ipykernel)",
   "language": "python",
   "name": "python3"
  },
  "language_info": {
   "codemirror_mode": {
    "name": "ipython",
    "version": 3
   },
   "file_extension": ".py",
   "mimetype": "text/x-python",
   "name": "python",
   "nbconvert_exporter": "python",
   "pygments_lexer": "ipython3",
   "version": "3.9.6"
  }
 },
 "nbformat": 4,
 "nbformat_minor": 5
}
